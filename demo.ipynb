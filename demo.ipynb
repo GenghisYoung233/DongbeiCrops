{
 "cells": [
  {
   "cell_type": "markdown",
   "metadata": {},
   "source": [
    "# Generate train/test datasets"
   ]
  },
  {
   "cell_type": "code",
   "execution_count": null,
   "metadata": {},
   "outputs": [],
   "source": [
    "import os\n",
    "import subprocess\n",
    "\n",
    "# Output: *_train_dataset.csv, *_test_dataset.csv\n",
    "\n",
    "pyfile = r\"path\\to\\generate_datasets.py\"\n",
    "# Path to raster(geotiff) and label(shapefile)\n",
    "# There should be a \"Classvalue\" field(range from 1-255) to identify different classes,\n",
    "stacked_raster = r\"path\\to\\Drone_rgb.tif\"\n",
    "train_feature = r\"path\\to\\label.shp\"\n",
    "train_ratio = 0.8\n",
    "\n",
    "cmd = f\"python {pyfile} --stacked_raster {stacked_raster} --train_feature {train_feature} --train_ratio {train_ratio}\"\n",
    "subprocess.run(cmd)"
   ]
  },
  {
   "cell_type": "markdown",
   "metadata": {},
   "source": [
    "# Training/Inference"
   ]
  },
  {
   "cell_type": "code",
   "execution_count": null,
   "metadata": {},
   "outputs": [],
   "source": [
    "# Choose a model you prefer\n",
    "model = \"TempCNN\"  # Options: \"TempCNN\", \"TransformerModel\", \"OmniScaleCNN\", \"LSTM\", \"StarRNN\", \"MSResNet\"\n",
    "\n",
    "pyfile = r\"path\\to\\train_inference.py\"\n",
    "# Path to generated datasets\n",
    "train_file = r\"path\\to\\label_train_datasat.csv\"\n",
    "test_file = r'path\\to\\label_test_datasat.csv'\n",
    "result_path = r\"path\\to\\result_folder\"\n",
    "epoch = 10\n",
    "device = \"cpu\"  # Options: cpu, cuda\n",
    "# Number of bands for single raster in time-series\n",
    "n_channels = 3\n",
    "# Raster to classify\n",
    "input_raster = r\"path\\to\\Drone_rgb.tif\"\n",
    "\n",
    "\n",
    "result_file = os.path.join(result_path, os.path.basename(input_raster).replace(\".tif\", f\"_{model}.tif\"))\n",
    "cmd = f\"python {pyfile} --model {model} --train_file {train_file} --test_file {test_file} --result_path {result_path} --device {device} --epoch {epoch} --n_channels {n_channels} --input_raster {input_raster} --result_file {result_file}\"\n",
    "subprocess.run(cmd)"
   ]
  },
  {
   "cell_type": "code",
   "execution_count": null,
   "metadata": {},
   "outputs": [],
   "source": []
  }
 ],
 "metadata": {
  "kernelspec": {
   "display_name": "Python 3",
   "language": "python",
   "name": "python3"
  },
  "language_info": {
   "codemirror_mode": {
    "name": "ipython",
    "version": 3
   },
   "file_extension": ".py",
   "mimetype": "text/x-python",
   "name": "python",
   "nbconvert_exporter": "python",
   "pygments_lexer": "ipython3",
   "version": "3.8.8"
  }
 },
 "nbformat": 4,
 "nbformat_minor": 4
}
